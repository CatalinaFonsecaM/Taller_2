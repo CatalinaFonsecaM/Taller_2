{
  "nbformat": 4,
  "nbformat_minor": 0,
  "metadata": {
    "colab": {
      "provenance": []
    },
    "kernelspec": {
      "name": "python3",
      "display_name": "Python 3"
    },
    "language_info": {
      "name": "python"
    }
  },
  "cells": [
    {
      "cell_type": "markdown",
      "source": [
        "## Estudiantes:\n",
        "### Jeffrey Chamorro Sánchez - 64191009\n",
        "### Catalina Fonseca Martínez - 64191154"
      ],
      "metadata": {
        "id": "FCjaJQ9wZroH"
      }
    },
    {
      "cell_type": "markdown",
      "source": [
        "## Punto 1"
      ],
      "metadata": {
        "id": "2Nxprp3pkmcj"
      }
    },
    {
      "cell_type": "code",
      "source": [
        "def saludo_bienvenida (a, b):  #Definición de la función\n",
        "  if type(a)== str and type(b)==int:    #Verificación de tipo de variable\n",
        "    print (f\"Hola {a} tienes {b} años\") #Texto a imprimir con las variables a y b\n",
        "  else:\n",
        "      print(\"Llene los datos correctamente\")  #Texto a imprimir si no se cumple la condición\n",
        "\n",
        "saludo_bienvenida(\"Laura\",22)    #Ejemplo"
      ],
      "metadata": {
        "id": "aEpcyGoLlS5A",
        "colab": {
          "base_uri": "https://localhost:8080/"
        },
        "outputId": "5bcc71dc-972e-4582-e7e7-dadb259dd6d4"
      },
      "execution_count": null,
      "outputs": [
        {
          "output_type": "stream",
          "name": "stdout",
          "text": [
            "Hola Laura tienes 22 años\n"
          ]
        }
      ]
    },
    {
      "cell_type": "markdown",
      "source": [
        "## Punto 2"
      ],
      "metadata": {
        "id": "WdNAJXp_pir2"
      }
    },
    {
      "cell_type": "code",
      "source": [
        "def area_circulo (c): #Definición de la función\n",
        "  if type (c)==int:   #verificación del tipo de variable\n",
        "    resultado= 3.14*(c**2) #formula para hallar el area de un circulo\n",
        "    return resultado #entrega el valor del código\n",
        "  else: print(\"Introduzca el radio del circulo\") #texto a imprimir si no se cumple la condición\n",
        "\n",
        "c = int(input(\"Ingrese el radio del circulo: \")) #solicitud al usuario para que ingrese el radio\n",
        "result= area_circulo(c) #creación variable result\n",
        "print(\"El area del circulo es:\", result) #texto a imprimir"
      ],
      "metadata": {
        "id": "dsa0nvB8nRjw",
        "colab": {
          "base_uri": "https://localhost:8080/"
        },
        "outputId": "ff3204b4-2594-4877-8881-821922622d4d"
      },
      "execution_count": null,
      "outputs": [
        {
          "output_type": "stream",
          "name": "stdout",
          "text": [
            "Ingrese el radio del circulo: 5\n",
            "El area del circulo es: 78.5\n"
          ]
        }
      ]
    },
    {
      "cell_type": "markdown",
      "source": [
        "## Punto 3"
      ],
      "metadata": {
        "id": "4-NmqBMCu1vz"
      }
    },
    {
      "cell_type": "code",
      "source": [
        "def calcular_promedio(lista_numeros): #Definición de la función\n",
        "    total = sum(lista_numeros) #Definición variable \"total\"\n",
        "    cantidad_numeros = 0  #Definición variable \"cantidad_numeros\" que comienza desde la posición cero\n",
        "    for numero in lista_numeros: #Creación bucle for\n",
        "        cantidad_numeros += 1 #Formula para que vaya aumentando la posición de uno en uno\n",
        "    promedio = total / cantidad_numeros #Formula para calcular promedio\n",
        "    print(f\"El promedio es {promedio}\") #Texto a imprimir\n",
        "\n",
        "calcular_promedio([5,4,8,9,2]) # Ejemplo de uso con una lista de numeros\n"
      ],
      "metadata": {
        "id": "pTgvJ_7SuB-I",
        "colab": {
          "base_uri": "https://localhost:8080/"
        },
        "outputId": "2f4a2397-ef81-4d6b-d6ff-f9f4f361208b"
      },
      "execution_count": null,
      "outputs": [
        {
          "output_type": "stream",
          "name": "stdout",
          "text": [
            "El promedio es 5.6\n"
          ]
        }
      ]
    },
    {
      "cell_type": "markdown",
      "source": [
        "## Punto 4"
      ],
      "metadata": {
        "id": "l_pbRE-Qzghn"
      }
    },
    {
      "cell_type": "code",
      "source": [
        "l1 = [2,11,21,70,73,8,1,5,24,32,12,3] #Creación de lista\n",
        "\n",
        "print(\"Los números mayores que 10 son:\") #Texto a imprimir\n",
        "for numero in l1: #Creación bucle for\n",
        "  if numero > 10 : #Condicional if para que solo se muestren los numeros mayores a 10\n",
        "    print(numero) #Comando de imprimir numeros mayores que 10\n"
      ],
      "metadata": {
        "colab": {
          "base_uri": "https://localhost:8080/"
        },
        "id": "X4zRWdw3ypbO",
        "outputId": "a775f618-2766-4c46-ced9-2ca7b82f7a97"
      },
      "execution_count": null,
      "outputs": [
        {
          "output_type": "stream",
          "name": "stdout",
          "text": [
            "Los números mayores que 10 son:\n",
            "11\n",
            "21\n",
            "70\n",
            "73\n",
            "24\n",
            "32\n",
            "12\n"
          ]
        }
      ]
    },
    {
      "cell_type": "markdown",
      "source": [
        "## Punto 5"
      ],
      "metadata": {
        "id": "vQFQPqHB21tP"
      }
    },
    {
      "cell_type": "code",
      "source": [
        "d= {'cafe': 18000,\n",
        "    'chocolate': 12000,\n",
        "    'shampoo': 32000} #Creación de diccionario\n",
        "\n",
        "precio = str(input(\"Ingrese el producto deseado: \")) #Creación variable precio\n",
        "\n",
        "if precio in d: #condicional if de la variable precio en el diccionario\n",
        "    precio_producto = d[precio] #Creación de variable \"precio_producto\"\n",
        "    print(f\"El precio de {precio} es ${precio_producto}\") #Texto a imprimir si se cumple la condición\n",
        "else:\n",
        "    print(\"Producto no encontrado en el diccionario.\") #Texto a imprimir si no se cumple la condición"
      ],
      "metadata": {
        "id": "FbQMov6D1oHH",
        "colab": {
          "base_uri": "https://localhost:8080/"
        },
        "outputId": "9bb81ffa-a752-44ee-bd26-27e3c09065c2"
      },
      "execution_count": null,
      "outputs": [
        {
          "output_type": "stream",
          "name": "stdout",
          "text": [
            "Ingrese el producto deseado: shampoo\n",
            "El precio de shampoo es $32000\n"
          ]
        }
      ]
    },
    {
      "cell_type": "markdown",
      "source": [
        "## Punto 6"
      ],
      "metadata": {
        "id": "2fbMrQED4GCQ"
      }
    },
    {
      "cell_type": "code",
      "source": [
        "s= \"No primo\" #Creación variable s\n",
        "t= \"Es primo\" #Creación variable t\n",
        "\n",
        "def es_primo(e): #Creación función \"es_primo\"\n",
        "  if e <=1: #Condicional para la variable e que verifica que sea menor o igual que 1\n",
        "    return s #Si se cumple la condición se imprimira el texto \"s\"\n",
        "\n",
        "  for i in range(2,e): #Creación de bucle for\n",
        "    if e % i==0: #Condición de que el valor de \"e\" es divisible entre \"i\" dejando un residuo de cero\n",
        "      return s #Si se cumple con la condición devolverá el texto \"s\"\n",
        "  return t #Si no se cumple ningun condicional retornara el texto \"t\"\n",
        "\n",
        "es_primo(769) #Ejemplo"
      ],
      "metadata": {
        "id": "XCxuK9QtWzxv",
        "colab": {
          "base_uri": "https://localhost:8080/",
          "height": 35
        },
        "outputId": "4216e5ed-eb88-4bf1-a745-869848381361"
      },
      "execution_count": null,
      "outputs": [
        {
          "output_type": "execute_result",
          "data": {
            "text/plain": [
              "'Es primo'"
            ],
            "application/vnd.google.colaboratory.intrinsic+json": {
              "type": "string"
            }
          },
          "metadata": {},
          "execution_count": 36
        }
      ]
    },
    {
      "cell_type": "markdown",
      "source": [
        "## Punto 7"
      ],
      "metadata": {
        "id": "KeumP45z9EUA"
      }
    },
    {
      "cell_type": "code",
      "source": [
        "\n",
        "lnombres= [\"Marta\",\"Yenny\",\"Luis\",\"Leo\",\"Ana\",\"Paco\",\"Sara\",\"Alex\",\"Hugo\",\"Gina\"] #Creación de lista\n",
        "x=0 #Definición variable \"x\" que comienza desde la posición cero\n",
        "while x < len(lnombres) and lnombres[x] != \"Alex\": #Bucle while que se repita hasta que llegue al nombre Alex\n",
        "  print(lnombres[x]) #Impresión de la lista\n",
        "  x+=1 #Comando para que aumente la posición de 1 en 1"
      ],
      "metadata": {
        "colab": {
          "base_uri": "https://localhost:8080/"
        },
        "id": "J6PebNpx4AHV",
        "outputId": "d80edf37-3e4f-4936-a087-70db766abfb0"
      },
      "execution_count": null,
      "outputs": [
        {
          "output_type": "stream",
          "name": "stdout",
          "text": [
            "Marta\n",
            "Yenny\n",
            "Luis\n",
            "Leo\n",
            "Ana\n",
            "Paco\n",
            "Sara\n"
          ]
        }
      ]
    },
    {
      "cell_type": "markdown",
      "source": [
        "## Punto 8"
      ],
      "metadata": {
        "id": "Qr64NXA4VR1G"
      }
    },
    {
      "cell_type": "code",
      "source": [
        "def invertir_cadena(cadena): #Definición de función\n",
        "    cadena_invertida = cadena[::-1] #Creación de cadena invertida usa<ndo slicing\n",
        "    return cadena_invertida #retorno de la variable \"cadena_invertida\"\n",
        "\n",
        "k2=\"zapato\" #Creación variable \"k2\"\n",
        "\n",
        "invertida= invertir_cadena(k2) #Creación variable \"invertida\" usando la función \"invertir_cadena\" del argumento \"k2\"\n",
        "print(f\"Cadena original:{k2}\") #Texto a imprimir usando el argumento original k2\n",
        "print(f\"Cadena invertida: {invertida}\") #Texto a imprimir invirtiendo el argumento\n"
      ],
      "metadata": {
        "colab": {
          "base_uri": "https://localhost:8080/"
        },
        "id": "yZmOv0nF-gE6",
        "outputId": "d7e900c5-5c71-4966-f703-c9d823fcad15"
      },
      "execution_count": null,
      "outputs": [
        {
          "output_type": "stream",
          "name": "stdout",
          "text": [
            "Cadena original:zapato\n",
            "Cadena invertida: otapaz\n"
          ]
        }
      ]
    },
    {
      "cell_type": "markdown",
      "source": [
        "## Punto 9"
      ],
      "metadata": {
        "id": "JfT-hGQRWrmg"
      }
    },
    {
      "cell_type": "code",
      "source": [
        "pares = [n for n in range(2, 21, 2)] #Uso de comprensión de lista para generar unicamente números pares y uso de bucle for para recorrer los números avanzando de 2 en 2\n",
        "print(pares) #Impresión de números pares\n"
      ],
      "metadata": {
        "id": "KowktkedEleP",
        "colab": {
          "base_uri": "https://localhost:8080/"
        },
        "outputId": "cea49df8-0560-42cd-b1e9-b630619de86c"
      },
      "execution_count": null,
      "outputs": [
        {
          "output_type": "stream",
          "name": "stdout",
          "text": [
            "[2, 4, 6, 8, 10, 12, 14, 16, 18, 20]\n"
          ]
        }
      ]
    },
    {
      "cell_type": "markdown",
      "source": [
        "## Punto 10"
      ],
      "metadata": {
        "id": "8_Vn7Ev4a-KU"
      }
    },
    {
      "cell_type": "code",
      "source": [
        "def fibonacci(n):  #Definición de la función\n",
        "    serie_fib = [0, 1] #Creación de una lista que empieza con los 2 primeros números de la serie\n",
        "    while len(serie_fib) < n: #Creación de bucle while que recorra la lista \"serie_fib\"\n",
        "        siguiente_dato = serie_fib[-1] + serie_fib[-2] #Calculo del siguiente termino de la serie sumando los 2 números anteriores\n",
        "        serie_fib.append(siguiente_dato) #Agrega el siguiente termino a la lista\n",
        "    return serie_fib #Retorna la lista completa de números de la serie\n",
        "\n",
        "\n",
        "n = int(input(\"Ingrese la cantidad de términos deseada: \")) #Solicita al usuario ingresar la cantidad de números\n",
        "\n",
        "result = fibonacci(n) #Se llama a la función fibonacci para que los datos queden guardados en la variable result\n",
        "print(\"Los primeros\", n, \"términos de la serie Fibonacci son:\", result) #Impresión de texto\n"
      ],
      "metadata": {
        "colab": {
          "base_uri": "https://localhost:8080/"
        },
        "id": "GxhstGG3ayVs",
        "outputId": "6f33c080-68b3-4ac7-e8fc-394f56d357c5"
      },
      "execution_count": null,
      "outputs": [
        {
          "output_type": "stream",
          "name": "stdout",
          "text": [
            "Ingrese la cantidad de términos deseada: 4\n",
            "Los primeros 4 términos de la serie Fibonacci son: [0, 1, 1, 2]\n"
          ]
        }
      ]
    },
    {
      "cell_type": "markdown",
      "source": [
        "## Punto 11"
      ],
      "metadata": {
        "id": "nWSjoDNTnl9k"
      }
    },
    {
      "cell_type": "code",
      "source": [
        "def calcular_interes_simple(principal, tasa_interes, tiempo): #Definición de la función \"calcular_interes_simple\"\n",
        "\n",
        "    tasa_decimal = tasa_interes / 100 #Creación de la variable \"tasa_decimal\" tomando \"tasa_interes\" dividiendola entre 100\n",
        "    interes = principal * tasa_decimal * tiempo #Creación de la variable \"interes\" tomando el argumento \"principal\" y \"tasa_decimal\" y luego multiplicarlas por \"tiempo\"\n",
        "    return interes #Retorno de el resultado de \"interes\"\n",
        "\n",
        "\n",
        "calcular_interes_simple(80000,2,3) #Ejemplo"
      ],
      "metadata": {
        "id": "85I7B56jnlre",
        "colab": {
          "base_uri": "https://localhost:8080/"
        },
        "outputId": "96f67dd0-9bd2-4eae-d90b-ca2a13c9ebd1"
      },
      "execution_count": null,
      "outputs": [
        {
          "output_type": "execute_result",
          "data": {
            "text/plain": [
              "4800.0"
            ]
          },
          "metadata": {},
          "execution_count": 1
        }
      ]
    },
    {
      "cell_type": "markdown",
      "source": [
        "## Punto 12"
      ],
      "metadata": {
        "id": "suB9ymizooSr"
      }
    },
    {
      "cell_type": "code",
      "source": [
        "def promedio_acciones(lista_acciones): #Creación función \"promedio_acciones\"\n",
        "    total = sum(lista_acciones) #Creación variable \"total\" la cual suma la lista de acciones\n",
        "    cantidad_acciones = 0 #Definición variable \"cantidad_acciones\" que comienza desde la posición cero\n",
        "    for numero in lista_acciones: #Creación de un bucle for\n",
        "        cantidad_acciones += 1 #Comando para que aumente la posición de 1 en 1\n",
        "    promedio = total / cantidad_acciones #Creación variable \"promedio\"\n",
        "    print(f\"El promedio del valor de las acciones es ${promedio}\") #Impresión de texto\n",
        "\n",
        "\n",
        "promedio_acciones([8000,4500,12000,7000]) #Ejemplo"
      ],
      "metadata": {
        "colab": {
          "base_uri": "https://localhost:8080/"
        },
        "id": "ImuEdNR0oMBE",
        "outputId": "a6f3cfd3-8507-4ac9-88ff-7e5b17bb5b29"
      },
      "execution_count": null,
      "outputs": [
        {
          "output_type": "stream",
          "name": "stdout",
          "text": [
            "El promedio del valor de las acciones es $7875.0\n"
          ]
        }
      ]
    },
    {
      "cell_type": "markdown",
      "source": [
        "## Punto 13"
      ],
      "metadata": {
        "id": "XbhP6Wq-rVTZ"
      }
    },
    {
      "cell_type": "code",
      "source": [
        "def convertir_dolares_a_euros(e): #Definición función \"convertir_dolares_a_euros\"\n",
        "  if type (e)==int: #Condicional if si el tipo de variable es un entero\n",
        "    resultado= e*0.92 #Creación variable \"resultado\" que multiplica el argumento por la tasa de cambio 0.92\n",
        "    return resultado #Retorno del calculo\n",
        "  else: print(\"Introduzca un valor en dolares\") #Impresión de texto\n",
        "\n",
        "e = int(input(\"Ingrese el valor en dolares: \")) #Comando para solicitar que el usuario ingrese el valor\n",
        "result= convertir_dolares_a_euros(e) #Se llama la función \"convertir_dolares_a_euros\" para que los datos queden almacenados en la variable \"result\"\n",
        "print(\"El valor en euros es:\", result) #Impresión de resultado"
      ],
      "metadata": {
        "colab": {
          "base_uri": "https://localhost:8080/"
        },
        "id": "3SGhQmilrNsZ",
        "outputId": "5534fe0c-6d1b-42e8-aa91-d3fd7656f40c"
      },
      "execution_count": null,
      "outputs": [
        {
          "output_type": "stream",
          "name": "stdout",
          "text": [
            "Ingrese el valor en dolares: 10\n",
            "El valor en euros es: 9.200000000000001\n"
          ]
        }
      ]
    },
    {
      "cell_type": "markdown",
      "source": [
        "## Punto 14"
      ],
      "metadata": {
        "id": "Z0EYj00yslF6"
      }
    },
    {
      "cell_type": "code",
      "source": [
        "def calcular_factorial(f): #Definicón de la función \"calcular_factorial\"\n",
        "    factorial = 1 #Creación variable factorial que acumulará los números desde el 1\n",
        "    for i in range(1, f + 1): #Creación de un bucle for para que en el rango se vaya sumando a \"f\" 1\n",
        "        factorial *= i #En cada repitición se multiplicara el valor i, el cual quedará almacenado nuevamente en la variable \"factorial\"\n",
        "    return factorial #Retorno del resultado\n",
        "\n",
        "calcular_factorial(5) #Ejemplo\n"
      ],
      "metadata": {
        "id": "Ib69zvMEsdRT",
        "colab": {
          "base_uri": "https://localhost:8080/"
        },
        "outputId": "ab4681fc-25de-4fd6-8f53-ac8412dd4253"
      },
      "execution_count": null,
      "outputs": [
        {
          "output_type": "execute_result",
          "data": {
            "text/plain": [
              "120"
            ]
          },
          "metadata": {},
          "execution_count": 3
        }
      ]
    },
    {
      "cell_type": "markdown",
      "source": [
        "## Punto 15"
      ],
      "metadata": {
        "id": "iORaZqPOuMAf"
      }
    },
    {
      "cell_type": "code",
      "source": [
        "Cuentas_bancarias= {'BBVA': 500000,\n",
        "    'Bancolombia': 1200000,\n",
        "    'Davivienda': 5000,\n",
        "    'Nequi': 40000,\n",
        "    'Caja social': 8000000,\n",
        "    'Av villas': 10000,\n",
        "    'Pichincha': 300000} #Creación de diccionario con cuentas bancarias y sus valores\n",
        "\n",
        "def cuenta_con_saldo_mas_alto(cuentas): #Definición de la función \"cuenta_con_saldo_mas_alto\"\n",
        "  cuenta_mas_alta = None #Creación variable \"cuenta_mas_alta\"\n",
        "  saldo_mas_alto = float('-inf') #Creación de la variable \"saldo_mas_alto\"\n",
        "\n",
        "  for cuenta, saldo in cuentas.items(): #Bucle for para encontrar el saldo más alto\n",
        "      if saldo > saldo_mas_alto: #Condicional if de que \"saldo\" sea mayor que \"saldo_mas_alto\"\n",
        "          saldo_mas_alto = saldo\n",
        "          cuenta_mas_alta = cuenta\n",
        "\n",
        "  return cuenta_mas_alta, saldo_mas_alto #Retorno del bucle\n",
        "\n",
        "nombre_cuenta, saldo_mas_alto = cuenta_con_saldo_mas_alto(Cuentas_bancarias) #Llamada de las variables con el argumento del diccionario\n",
        "print(f\"La cuenta con el saldo más alto es '{nombre_cuenta}' con un saldo de ${saldo_mas_alto}\") #Impresión de texto\n"
      ],
      "metadata": {
        "colab": {
          "base_uri": "https://localhost:8080/"
        },
        "id": "jAbswJa-t29P",
        "outputId": "040ae5e1-01f3-4282-bfee-676ca229b3e3"
      },
      "execution_count": null,
      "outputs": [
        {
          "output_type": "stream",
          "name": "stdout",
          "text": [
            "La cuenta con el saldo más alto es 'Caja social' con un saldo de $8000000\n"
          ]
        }
      ]
    },
    {
      "cell_type": "markdown",
      "source": [
        "## Punto 16"
      ],
      "metadata": {
        "id": "Mn8P_OmAxIB8"
      }
    },
    {
      "cell_type": "code",
      "source": [
        "def calcular_numero_triangular(n): #Definición de la función \"calcular_numero_triangular\"\n",
        "    return n * (n + 1) // 2 #Formula para hallar números triangulares\n",
        "cantidad_numeros = int(input(\"Ingrese la cantidad de números triangulares: \")) #Solicitud para que el usuario ingrese la cantidad requerida de números\n",
        "\n",
        "for i in range(1, cantidad_numeros + 1): #Creación bucle for que inicie en 1 y vaya avanzando en posición de uno en uno\n",
        "    numero_triangular = calcular_numero_triangular(i) #Creación de la variable \"numero_triangular\" que tome los datos y lo almacene dentro de ella\n",
        "    print(numero_triangular, end=\" \") #Impresión de texto"
      ],
      "metadata": {
        "colab": {
          "base_uri": "https://localhost:8080/"
        },
        "id": "or4lfy0_zNCO",
        "outputId": "7c19b955-c0fc-4af3-8e4b-34d0ea09d471"
      },
      "execution_count": null,
      "outputs": [
        {
          "output_type": "stream",
          "name": "stdout",
          "text": [
            "Ingrese la cantidad de números triangulares: 8\n",
            "1 3 6 10 15 21 28 36 "
          ]
        }
      ]
    },
    {
      "cell_type": "markdown",
      "source": [
        "## Punto 17"
      ],
      "metadata": {
        "id": "NeuwvAqEz9Q9"
      }
    },
    {
      "cell_type": "code",
      "source": [
        "def calcular_descuento(precio,descuento): #Definición de la función \"calcular_descuento\" tomando los argumentos \"precio\" y \"descuento\"\n",
        "\n",
        "    descuento_aplicado = precio * (descuento/100) #Creación de la variable \"descuento_aplicado\" que se calcula tomando el \"precio\" multiplicado por \"descuento\" dividido entre 100\n",
        "    return descuento_aplicado #Retorno del valor del descuento aplicado\n",
        "\n",
        "calcular_descuento(50000,20) #Ejemplo\n"
      ],
      "metadata": {
        "colab": {
          "base_uri": "https://localhost:8080/"
        },
        "id": "rn_x7PnFzz26",
        "outputId": "fa37880a-7819-4482-af79-39f610a3cd6e"
      },
      "execution_count": null,
      "outputs": [
        {
          "output_type": "execute_result",
          "data": {
            "text/plain": [
              "10000.0"
            ]
          },
          "metadata": {},
          "execution_count": 47
        }
      ]
    },
    {
      "cell_type": "markdown",
      "source": [
        "## Punto 18"
      ],
      "metadata": {
        "id": "R0AFrShI1nHL"
      }
    },
    {
      "cell_type": "code",
      "source": [
        "Lista_pares = [1,2,3,4,5,6,7,8,9,10,11,12,13,14,15,16,17,18,19,20] #Creación de lista\n",
        "\n",
        "print(\"Los números pares son:\") #Texto a imprimir\n",
        "for numero in Lista_pares: #Creación bucle for de números en la lista\n",
        "  if numero % 2 == 0: #Condicional if de  si al dividir el número en la lista deja un residuo de 0\n",
        "    print(numero) #Impresión de números pares teniendo en cuenta el condicional"
      ],
      "metadata": {
        "colab": {
          "base_uri": "https://localhost:8080/"
        },
        "id": "L4H2IJse0aO5",
        "outputId": "d76abb6a-6454-4732-9781-95b2bc539dcc"
      },
      "execution_count": null,
      "outputs": [
        {
          "output_type": "stream",
          "name": "stdout",
          "text": [
            "Los números pares son:\n",
            "2\n",
            "4\n",
            "6\n",
            "8\n",
            "10\n",
            "12\n",
            "14\n",
            "16\n",
            "18\n",
            "20\n"
          ]
        }
      ]
    },
    {
      "cell_type": "markdown",
      "source": [
        "## Punto 19"
      ],
      "metadata": {
        "id": "t9CAOg-52_4n"
      }
    },
    {
      "cell_type": "code",
      "source": [
        "listan= [30,5,4,0,85,74,925,5,7852,3,784,1,95,63,7,6,41,77,44,665] #Creación de lista\n",
        "\n",
        "def mayor_menor(listan): #Definición de la función \"mayor_menor\"\n",
        "    numero_mayor = max(listan) #Creación de la variable \"numero_mayor\" que encierre el valor máximo de la lista\n",
        "    numero_menor = min(listan) #Creación de la variable \"numero_menor\" que encierre el valor mínimo de la lista\n",
        "    return numero_mayor, numero_menor #Retorno de las variables\n",
        "\n",
        "mayor = numero_mayor(listan) #Creación de la variable mayor que tome el resultado guardado\n",
        "menor = numero_menor(listan) #Creación de la variable mayor que tome el resultado guardado\n",
        "\n",
        "print (f\"el numero mas grande es {mayor} y el mas pequeño es {menor}\") #Texto a imprimir"
      ],
      "metadata": {
        "colab": {
          "base_uri": "https://localhost:8080/"
        },
        "id": "DCsUHlub4XBX",
        "outputId": "3bef092f-d1e1-41e0-aca4-0907a5d6bf73"
      },
      "execution_count": null,
      "outputs": [
        {
          "output_type": "stream",
          "name": "stdout",
          "text": [
            "el numero mas grande es 7852 y el mas pequeño es 0\n"
          ]
        }
      ]
    },
    {
      "cell_type": "markdown",
      "source": [
        "## Punto 20"
      ],
      "metadata": {
        "id": "XbawOX9f7Rqz"
      }
    },
    {
      "cell_type": "code",
      "source": [
        "def numeros_pell(n): #Definición de la función \"numeros_pell\"\n",
        "    secuencia = [0, 1] #Creación de una lista que tome los dos primeros números de la secuencia de Pell\n",
        "    for i in range(2, n): #Creación de bucle for para calcular desde el tercer termino en adelante\n",
        "        siguiente = 2 * secuencia[i - 1] + secuencia[i - 2] #Calcula el siguiente termino de la secuencia utilizando su formula\n",
        "        secuencia.append(siguiente) #Agrega el siguiente termino a la secuencia\n",
        "    return secuencia #Retorno de los números de la secuencia\n",
        "\n",
        "numeros = int(input(\"Ingrese la cantidad de términos que desea generar: \")) #Comando para que el usuario ingrese la cantidad de terminos\n",
        "\n",
        "secuencia_pell = numeros_pell(numeros) #Llama la funció \"numeros_pell\" para guardar la secuencia generada en \"secuencia_pell\"\n",
        "print(\"Los primeros términos de la secuencia de numeros de Pell son:\") #Impresión de texto\n",
        "for termino in secuencia_pell: #Bucle for para que recorra los números de la secuencia\n",
        "    print(termino, end=\" \") #Imprime cada termino de la secuencia hasta el final de lo deseado por el usuario\n"
      ],
      "metadata": {
        "colab": {
          "base_uri": "https://localhost:8080/"
        },
        "id": "OY8k5ENC7XKT",
        "outputId": "334547b2-22da-4c4a-bb45-d00e538766bc"
      },
      "execution_count": null,
      "outputs": [
        {
          "output_type": "stream",
          "name": "stdout",
          "text": [
            "Ingrese la cantidad de términos que desea generar: 5\n",
            "Los primeros términos de la secuencia de numeros de Pell son:\n",
            "0 1 2 5 12 "
          ]
        }
      ]
    },
    {
      "cell_type": "markdown",
      "source": [
        "### Punto 21"
      ],
      "metadata": {
        "id": "QxMIMbki9SuZ"
      }
    },
    {
      "cell_type": "code",
      "source": [
        "def calcular_amortizacion(monto,tasa_interes_anual,plazo): #Definición de la función \"calcular amortización\" que toma 3 argumentos\n",
        "  tasa_interes_mensual= tasa_interes_anual / 12 / 100 #Calcula la tasa de interés mensual dividiendo la tasa de interés anual por 12 y dividiendo nuevamente por 100\n",
        "  cuota_mensual= (monto * tasa_interes_mensual) / (1-(1+tasa_interes_mensual)**(-plazo)) #Calcula la cuota mensual del préstamo utilizando la fórmula de amortizació\n",
        "\n",
        "  tabla_amortizacion= [] #Creación de una lista vacia\n",
        "  saldo_final= monto #Creación de una variable que guarde el monto del prestamo\n",
        "\n",
        "  for mes in range(1, plazo + 1): #Creación de un bucle for que se repite a través de cada mes en el rango del plazo del prestamo\n",
        "    interes_mensual= saldo_final * tasa_interes_mensual #Creación de una variable que multiplique \"saldo final\" por \"tasa_interes_mensual\"\n",
        "    abono_pagado= cuota_mensual - interes_mensual #Creación de una variable que reste la cuota mensual menos el interes mensual\n",
        "    saldo_final -= abono_pagado #Creación de una variable que contenga la resta despúes de lo abonado en el prestamo\n",
        "    tabla_amortizacion.append((mes, round(cuota_mensual, 2), round(interes_mensual, 2), round(abono_pagado,2), round(saldo_final,2))) #Agrega una tupla a la tabla de amortización que contiene información como el número de mes, la cuota mensual, el interés mensual, el abono pagado y el saldo final. Se utiliza la función round() para redondear los valores a 2 decimales\n",
        "  return tabla_amortizacion #Retorna los valores de la tabla de amortización\n",
        "\n",
        "  monto = 2000000   #Definición de valores de ejemplo\n",
        "  tasa_interes_anual = 10\n",
        "  plazo = 6\n",
        "\n",
        "  tabla= calcular_amortizacion(monto, tasa_interes_anual, plazo) #Creación de la variable tabla que contenga la función y los argumentos definidos\n",
        "  for mes, cuota, interes, capital, saldo in tabla: #Creación bucle for para recorrer la tabla de amortización\n",
        "    print(f\"mes {mes} | cuota:{cuota} | interes: {interes} | capital pagado: {capital} | saldo final: {saldo}\") #Impresión de cada fila de la tabla de amortización\n",
        "\n",
        "calcular_amortizacion(4000000,50,8) #Ejemplo"
      ],
      "metadata": {
        "id": "G1R1YLVeEZgr",
        "colab": {
          "base_uri": "https://localhost:8080/"
        },
        "outputId": "ebc4cacc-ef3d-454f-c444-a6031aa36e9c"
      },
      "execution_count": null,
      "outputs": [
        {
          "output_type": "execute_result",
          "data": {
            "text/plain": [
              "[(1, 598206.87, 166666.67, 431540.2, 3568459.8),\n",
              " (2, 598206.87, 148685.83, 449521.04, 3118938.76),\n",
              " (3, 598206.87, 129955.78, 468251.08, 2650687.68),\n",
              " (4, 598206.87, 110445.32, 487761.55, 2162926.13),\n",
              " (5, 598206.87, 90121.92, 508084.94, 1654841.19),\n",
              " (6, 598206.87, 68951.72, 529255.15, 1125586.04),\n",
              " (7, 598206.87, 46899.42, 551307.45, 574278.59),\n",
              " (8, 598206.87, 23928.27, 574278.59, 0.0)]"
            ]
          },
          "metadata": {},
          "execution_count": 4
        }
      ]
    },
    {
      "cell_type": "markdown",
      "source": [
        "### Punto 22"
      ],
      "metadata": {
        "id": "3tZQju0PBXRu"
      }
    },
    {
      "cell_type": "code",
      "source": [
        "def es_numero_perfecto(j): #Definición de la función \"es_numero_perfecto\"\n",
        "    suma_divisores = 0 #Definición variable \"suma_divisores\" que comienza desde la posición cero\n",
        "    for divisor in range(1, j): #Bucle for en el rango de 1 al literal j\n",
        "        if j % divisor == 0: #Condicional: si el valor j al dividirse tiene un residuo de 0\n",
        "            suma_divisores += divisor #Si se cumple el condicional anterior la suma de divisores es igual al divisor\n",
        "    return suma_divisores == j #Retorno de los valores\n",
        "\n",
        "j = int(input(\"Ingrese un número: \")) # Comando para solicitar al usuario que ingrese un número\n",
        "\n",
        "if es_numero_perfecto(j): #Condicional de si es número perfecto\n",
        "    print(f\"{j} es un número perfecto.\") #Impresión de texto\n",
        "else:\n",
        "    print(f\"{j} no es un número perfecto.\") #Impresión de texto sino se cumple la condición\n"
      ],
      "metadata": {
        "colab": {
          "base_uri": "https://localhost:8080/"
        },
        "id": "1xzxkouPBbon",
        "outputId": "6cb20f0d-8780-4339-c2e6-f87bc3998136"
      },
      "execution_count": null,
      "outputs": [
        {
          "output_type": "stream",
          "name": "stdout",
          "text": [
            "Ingrese un número: 28\n",
            "28 es un número perfecto.\n"
          ]
        }
      ]
    },
    {
      "cell_type": "markdown",
      "source": [
        "## Punto 23"
      ],
      "metadata": {
        "id": "zXaxSV1cCI3b"
      }
    },
    {
      "cell_type": "code",
      "source": [
        "Prestamos= {'Personal': 5,\n",
        "    'Hipotecario': 10,\n",
        "    'De estudio': 2,\n",
        "    'Comercial': 8,\n",
        "    'Libre inversion': 7} #Creación de un diccionario que contiene tipos de creditos y sus tasas de interes\n",
        "\n",
        "Tasa = str(input(\"Ingrese el tipo de prestamo: \")) #Comando de solicitud para que el usuario ingrese el tipo de prestamo\n",
        "\n",
        "if Tasa in Prestamos: #Condicional de si el argumento se encuentra ligado al diccionario\n",
        "    Tasa_interes = Prestamos[Tasa] #Creación de una variable que guarde la tasa de interes del prestamo\n",
        "    print(f\"La tasa de interés para el prestamo {Tasa} es {Tasa_interes}%\") #Impresión de texto si se cumple la condición\n",
        "else:\n",
        "    print(\"Tipo de prestamo no encontrado.\") #Impresión de texto sino se cumple la condición"
      ],
      "metadata": {
        "colab": {
          "base_uri": "https://localhost:8080/"
        },
        "id": "sVwDnSBDCLqc",
        "outputId": "3f90927e-9dd3-4b2c-9b35-f67f127b0804"
      },
      "execution_count": null,
      "outputs": [
        {
          "output_type": "stream",
          "name": "stdout",
          "text": [
            "Ingrese el tipo de prestamo: Libre inversion\n",
            "La tasa de interés para el prestamo Libre inversion es 7%\n"
          ]
        }
      ]
    },
    {
      "cell_type": "markdown",
      "source": [
        "## Punto 24"
      ],
      "metadata": {
        "id": "OEnoH-FIK1j-"
      }
    },
    {
      "cell_type": "code",
      "source": [
        "import numpy as np #Importar libreria numpy\n",
        "\n",
        "def calcular_media_geometrica(lista_numeros): #Definición de la función \"calcular_media_geometrica\"\n",
        "    total = np.prod(lista_numeros) #Creación de la variable total usando la función np.prod para calcular el producto de los elementos de la lista\n",
        "    cantidad_numeros = 0 #Definición variable \"cantidad_numeros\" que comienza desde la posición cero\n",
        "    for numero in lista_numeros: #Bucle for que recorra todos los números de lista\n",
        "        cantidad_numeros += 1 #Para cada repetición se aumenta en +1\n",
        "    media_geometrica = total ** (1/ len(lista_numeros)) #Creación de la variable \"media_geometrica\" teniendo en cuenta la formula de media geometrica\n",
        "    return media_geometrica #Retorno de los valores calculados\n",
        "    print(f\"La media geometrica de la lista es {media_geometrica}\") #Impresión de texto\n",
        "\n",
        "calcular_media_geometrica([8,42,9,27,33,5]) #Ejemplo\n"
      ],
      "metadata": {
        "id": "NV5q11hMK4Ln",
        "colab": {
          "base_uri": "https://localhost:8080/"
        },
        "outputId": "13b6a44d-a9ee-4610-ef13-e5dfb57080fb"
      },
      "execution_count": null,
      "outputs": [
        {
          "output_type": "execute_result",
          "data": {
            "text/plain": [
              "15.425464449771862"
            ]
          },
          "metadata": {},
          "execution_count": 7
        }
      ]
    },
    {
      "cell_type": "markdown",
      "source": [
        "## Punto 25"
      ],
      "metadata": {
        "id": "_y3WkqrZM7OM"
      }
    },
    {
      "cell_type": "code",
      "source": [
        "def encontrar_segundo_mas_grande(lista): #Definición de la función \"encontrar_segundo_mas_grande\"\n",
        "    if len(lista) < 2: #Condicional: si la longitud de la lista es menor a 2\n",
        "        return None #Retorna None\n",
        "\n",
        "    primer_mas_grande = max(lista) #Creación variable \"primer_mas_grande\" que tome el valor máximo del argumento \"lista\"\n",
        "    lista_sin_primer_mas_grande = [num for num in lista if num != primer_mas_grande] #Creación de una variable que tome todos los argumentos de la lista excepto el primer más grande\n",
        "    segundo_mas_grande = max(lista_sin_primer_mas_grande) #Creación de una variable tomando el valor máximo de la lista anterior\n",
        "\n",
        "    return segundo_mas_grande #Retorno del valor\n",
        "\n",
        "Lista_segundo = [2,4,8,66,9,22] #Generación de una lista\n",
        "segundo_mas_grande = encontrar_segundo_mas_grande(Lista_segundo) #Creación de la variable \"segundo_mas_grande\" que guarde el dato solicitado\n",
        "\n",
        "if segundo_mas_grande is not None: #Condicional: si el segundo más grande no es nulo imprimir el segundo\n",
        "    print(f\"El segundo número más grande es: {segundo_mas_grande}\") #Impresión de texto si se cumple la condición\n",
        "else:\n",
        "    print(\"No se puede encontrar\") #Impresión de texto si no se cumple la condición\n"
      ],
      "metadata": {
        "colab": {
          "base_uri": "https://localhost:8080/"
        },
        "id": "jQnoQ1kQMThv",
        "outputId": "744985b9-00e7-4d03-dec7-58332e760064"
      },
      "execution_count": null,
      "outputs": [
        {
          "output_type": "stream",
          "name": "stdout",
          "text": [
            "El segundo número más grande es: 22\n"
          ]
        }
      ]
    },
    {
      "cell_type": "markdown",
      "source": [
        "## Punto 26"
      ],
      "metadata": {
        "id": "jjLrNgwtq-JW"
      }
    },
    {
      "cell_type": "code",
      "source": [
        "def secuencia_lucas(L): #Definición función \"secuencia_lucas\"\n",
        "    numeros_l = [2, 1] #Creación de lista con los dos primeros argumentos de la secuencia lucas\n",
        "\n",
        "    for i in range(2, L): #Bucle for que inicie en el número 2 hasta el literal L\n",
        "        siguiente_term = numeros_l[i - 1] + numeros_l[i - 2] #Fórmula para hallar el siguiente termino en la secuencia\n",
        "        numeros_l.append(siguiente_term) #Agregar el siguiente número a la secuencia\n",
        "\n",
        "    return numeros_l #Retornar la lista \"numeros_l\" actualizada\n",
        "\n",
        "def lucas(): #Definición función \"lucas\"\n",
        "    try:\n",
        "        numero_terms = int(input(\"Ingrese la cantidad de términos que desea calcular: \")) #Condición para solicitar al usuario la cantidad de términos deseados\n",
        "        if numero_terms <= 0: #Condición: la variable \"numero_terms\" es menor o igual que cero\n",
        "            print(\"Por favor, ingrese un número positivo.\") #Texto a imprimir si se cumple la condición\n",
        "        else:\n",
        "            secuencia = secuencia_lucas(numero_terms) #Creación variable \"secuencia\"\n",
        "            print(\"Serie de los números de Lucas:\") #Texto a imprimir si no se cumple la condición\n",
        "            for term in secuencia: #Bucle for que repita los terminos en la secuencia\n",
        "                print(term, end=\" \") #texto a imprimir\n",
        "            print()\n",
        "    except ValueError: #Excepción en caso de que haya un error\n",
        "        print(\"Por favor, ingrese un valor numérico válido.\") #Texto a imprimir\n",
        "\n",
        "lucas() #Llamado de la función para visualización"
      ],
      "metadata": {
        "colab": {
          "base_uri": "https://localhost:8080/"
        },
        "id": "NH2SObSVs5lT",
        "outputId": "43449e29-14f5-47b2-93b3-1c0f9b368401"
      },
      "execution_count": null,
      "outputs": [
        {
          "output_type": "stream",
          "name": "stdout",
          "text": [
            "Ingrese la cantidad de términos que desea calcular: 5\n",
            "Serie de los números de Lucas:\n",
            "2 1 3 4 7 \n"
          ]
        }
      ]
    },
    {
      "cell_type": "markdown",
      "source": [
        "## Punto 27\n"
      ],
      "metadata": {
        "id": "S2hLzqIItn8p"
      }
    },
    {
      "cell_type": "code",
      "source": [
        "def calcular_cuota_mensual(monto, tasa_interes_anual, plazo_anos): #Definición de la función \"calcular_cuota_mensual\"\n",
        "    tasa_interes_mensual = tasa_interes_anual / 12 / 100 #Creación de la variable \"tasa_interes_mensual\" que divida la \"tasa_interes_anual\" en 12 y luego en 100\n",
        "    numero_cuotas = plazo_anos * 12 #Creación de la variable \"numero_cuotas\" que multiplique el \"plazo_anos\" por 12\n",
        "\n",
        "    cuota_mensual = (monto * tasa_interes_mensual) / (1 - (1 + tasa_interes_mensual)**(-numero_cuotas)) # Creación de la variable \"cuota_mensual\"\n",
        "\n",
        "    return cuota_mensual #Retorno del resultado de \"cuota_mensual\"\n",
        "\n",
        "def cuota(): #Definición de la función cuota\n",
        "    try:\n",
        "        monto = float(input(\"Ingrese el monto del préstamo: \")) #Comando de solicitud al usuario para que ingrese el monto del prestamo\n",
        "        tasa_interes_anual = float(input(\"Ingrese la tasa de interés anual (%): \")) #Comando de solicitud al usuario para que ingrese la tasa de interes anual\n",
        "        plazo_anos = int(input(\"Ingrese el plazo en años: \")) #Comando de solicitud al usuario para que ingrese el plazo en años\n",
        "\n",
        "        cuota_mensual = calcular_cuota_mensual(monto, tasa_interes_anual, plazo_anos) #Creación de la variable \"cuota_mensual\"\n",
        "        print(f\"La cuota mensual del préstamo es: {cuota_mensual:.2f} unidades monetarias.\") #Texto a imprimir\n",
        "    except ValueError: #Excepción en caso de que haya un error\n",
        "        print(\"Por favor, ingrese valores numéricos válidos.\") #Texto a imprimir\n",
        "\n",
        "cuota() #Llamado de la función para visualización\n"
      ],
      "metadata": {
        "colab": {
          "base_uri": "https://localhost:8080/"
        },
        "id": "vySLCGmhtqBY",
        "outputId": "48f1a5d7-fdf8-4178-d943-feb2859363e3"
      },
      "execution_count": null,
      "outputs": [
        {
          "output_type": "stream",
          "name": "stdout",
          "text": [
            "Ingrese el monto del préstamo: 5000000\n",
            "Ingrese la tasa de interés anual (%): 5\n",
            "Ingrese el plazo en años: 5\n",
            "La cuota mensual del préstamo es: 94356.17 unidades monetarias.\n"
          ]
        }
      ]
    },
    {
      "cell_type": "markdown",
      "source": [
        "## Punto 28"
      ],
      "metadata": {
        "id": "DmgDfmVVuiag"
      }
    },
    {
      "cell_type": "code",
      "source": [
        "def es_numero_armstrong(numero): #Definición de la función \"es_numero_armstrong\"\n",
        "    str_numero = str(numero) # Convertir el número en una cadena para trabajar con los dígitos\n",
        "    n = len(str_numero)# Obtener la cantidad de dígitos en el número\n",
        "    suma = sum(int(digito) ** n for digito in str_numero) # Calcular la suma de los dígitos elevados a la n\n",
        "    return numero == suma # Comprobar si el número es un número de Armstrong\n",
        "\n",
        "def armstrong(): #Definición de la función \"armstrong\"\n",
        "       numero = int(input(\"Ingrese un número: \")) #Comando de solicitud al usuario para que ingrese un número\n",
        "\n",
        "       if es_numero_armstrong(numero): #Condicional para verificar si el numero es de armstrong\n",
        "          print(f\"{numero} es un número de Armstrong.\") #Texto a imprimir si se cumple la condición\n",
        "       else:\n",
        "           print(f\"{numero} no es un número de Armstrong.\") #Texto a imprimir si no se cumple la condición\n",
        "\n",
        "armstrong() #Llamado de la función para visualización\n"
      ],
      "metadata": {
        "colab": {
          "base_uri": "https://localhost:8080/"
        },
        "id": "eH_MjhVkulWH",
        "outputId": "b4c994dc-3e51-405b-9965-404c1e53f19a"
      },
      "execution_count": null,
      "outputs": [
        {
          "output_type": "stream",
          "name": "stdout",
          "text": [
            "Ingrese un número: 408\n",
            "408 no es un número de Armstrong.\n"
          ]
        }
      ]
    },
    {
      "cell_type": "markdown",
      "source": [
        "## Punto 29"
      ],
      "metadata": {
        "id": "1F8EbIA4wBMA"
      }
    },
    {
      "cell_type": "code",
      "source": [
        "diccionario_monedas = {\n",
        "    \"USD\": \"$\",\n",
        "    \"EUR\": \"€\",\n",
        "    \"CAD\": \"C$\",\n",
        "    # Creación de un diccionario\n",
        "}\n",
        "\n",
        "tasas_cambio = {\n",
        "    \"USD\": 1.0,\n",
        "    \"EUR\": 0.85,\n",
        "    \"CAD\": 1.25,\n",
        "    # Creación de un diccionario para las tasas de cambio\n",
        "}\n",
        "\n",
        "def convertir_moneda(cantidad, moneda_origen, moneda_destino): #Definición de la función \"convertir_moneda\"\n",
        "    tasa_origen = tasas_cambio.get(moneda_origen, None) #Creación de variable \"tasa_origen\" utilizando el método .get para obener la moneda de origen\n",
        "    tasa_destino = tasas_cambio.get(moneda_destino, None) #Creación de variable \"tasa_destino\" utilizando el método .get para obener la moneda de destino\n",
        "\n",
        "    if tasa_origen is None or tasa_destino is None: #Condicional: si la tasa de origen o tasa destino son nulas\n",
        "        return None #Retornar \"none\"\n",
        "\n",
        "    cantidad_convertida = cantidad * (tasa_destino / tasa_origen) #Creación variable \"cantidad_convertida\"\n",
        "    return cantidad_convertida #Retornar el resultado de la variable\n",
        "\n",
        "cantidad = float(input(\"Ingrese la cantidad de dinero: \")) #Comando de solicitud al usuario para que ingrese la cantidad de dinero\n",
        "moneda_origen = input(\"Ingrese la moneda de origen (USD, EUR, CAD): \").upper() #Comando de solicitud al usuario para que ingrese la moneda de origen\n",
        "moneda_destino = input(\"Ingrese la moneda de destino (USD, EUR, CAD): \").upper() #Comando de solicitud al usuario para que ingrese la moneda de destino\n",
        "\n",
        "cantidad_convertida = convertir_moneda(cantidad, moneda_origen, moneda_destino) #Creación de la variable \"cantidad_convertida\"\n",
        "\n",
        "if cantidad_convertida is not None: #Condicional: si la variable \"cantidad_convertida\" es nula\n",
        "    simbolo_origen = diccionario_monedas.get(moneda_origen, moneda_origen) #Creación de variable \"simbolo_origen\" utilizando el método .get para obener la moneda de origen\n",
        "    simbolo_destino = diccionario_monedas.get(moneda_destino, moneda_destino) #Creación de variable \"simbolo_destino\" utilizando el método .get para obener la moneda de destino\n",
        "\n",
        "    print(f\"{cantidad:.2f} {simbolo_origen} equivale a {cantidad_convertida:.2f} {simbolo_destino}\") #Texto a imprimir si se cumple la condición\n",
        "else:\n",
        "    print(\"Moneda no encontrada en las tasas de cambio.\") #Texto a imprimir si no se cumple la condición\n"
      ],
      "metadata": {
        "colab": {
          "base_uri": "https://localhost:8080/"
        },
        "id": "WsJej32ZvX1n",
        "outputId": "3064d9b9-7410-41da-88f8-44ecafa638ff"
      },
      "execution_count": null,
      "outputs": [
        {
          "output_type": "stream",
          "name": "stdout",
          "text": [
            "Ingrese la cantidad de dinero: 5\n",
            "Ingrese la moneda de origen (USD, EUR, CAD): usd\n",
            "Ingrese la moneda de destino (USD, EUR, CAD): eur\n",
            "5.00 $ equivale a 4.25 €\n"
          ]
        }
      ]
    },
    {
      "cell_type": "markdown",
      "source": [
        "## Punto 30\n"
      ],
      "metadata": {
        "id": "KzaLn2suyD_G"
      }
    },
    {
      "cell_type": "code",
      "source": [
        "def desviacion(lista): #Definición de la función \"desviación\"\n",
        "  var = varianza(lista) #Creación de la variable \"var\" tomando la varianza de la lista de datos\n",
        "  return (var ** (0.5)) #Retornar la varianza elevada al 0.5\n",
        "\n",
        "desviacion([5,4,8,9,6,3]) #Ejemplo"
      ],
      "metadata": {
        "colab": {
          "base_uri": "https://localhost:8080/"
        },
        "id": "EWYTquNuyXdt",
        "outputId": "46d77703-c5fa-40b7-b3ff-07b43895a1e5"
      },
      "execution_count": null,
      "outputs": [
        {
          "output_type": "execute_result",
          "data": {
            "text/plain": [
              "2.316606713852541"
            ]
          },
          "metadata": {},
          "execution_count": 40
        }
      ]
    },
    {
      "cell_type": "code",
      "source": [],
      "metadata": {
        "id": "YXfnE4EjZ4ka"
      },
      "execution_count": null,
      "outputs": []
    }
  ]
}